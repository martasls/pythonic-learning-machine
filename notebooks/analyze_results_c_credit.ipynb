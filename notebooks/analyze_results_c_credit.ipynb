{
 "cells": [
  {
   "cell_type": "markdown",
   "metadata": {},
   "source": [
    "# Credit data set analysis"
   ]
  },
  {
   "cell_type": "markdown",
   "metadata": {},
   "source": [
    "This is just an experiment. "
   ]
  },
  {
   "cell_type": "code",
   "execution_count": 1,
   "metadata": {
    "collapsed": true
   },
   "outputs": [],
   "source": [
    "import pandas as pd\n",
    "import matplotlib.pyplot as plt \n",
    "import seaborn as sns\n",
    "import os"
   ]
  },
  {
   "cell_type": "code",
   "execution_count": 2,
   "metadata": {
    "collapsed": true
   },
   "outputs": [],
   "source": [
    "#change working directory\n",
    "os.chdir(\"C:\\\\Users\\\\Marta\\\\Documents\\\\GitHub\\\\pythonic-learning-machine\\\\data_sets\\\\06_formatted\\\\c_credit\\\\\")"
   ]
  },
  {
   "cell_type": "code",
   "execution_count": 10,
   "metadata": {},
   "outputs": [
    {
     "data": {
      "text/html": [
       "<div>\n",
       "<style scoped>\n",
       "    .dataframe tbody tr th:only-of-type {\n",
       "        vertical-align: middle;\n",
       "    }\n",
       "\n",
       "    .dataframe tbody tr th {\n",
       "        vertical-align: top;\n",
       "    }\n",
       "\n",
       "    .dataframe thead th {\n",
       "        text-align: right;\n",
       "    }\n",
       "</style>\n",
       "<table border=\"1\" class=\"dataframe\">\n",
       "  <thead>\n",
       "    <tr style=\"text-align: right;\">\n",
       "      <th></th>\n",
       "      <th>Unnamed: 0</th>\n",
       "      <th>SLM (OLS)</th>\n",
       "      <th>NEAT</th>\n",
       "      <th>SGA</th>\n",
       "    </tr>\n",
       "  </thead>\n",
       "  <tbody>\n",
       "    <tr>\n",
       "      <th>25</th>\n",
       "      <td>25</td>\n",
       "      <td>255</td>\n",
       "      <td>19</td>\n",
       "      <td>27</td>\n",
       "    </tr>\n",
       "    <tr>\n",
       "      <th>26</th>\n",
       "      <td>26</td>\n",
       "      <td>37</td>\n",
       "      <td>13</td>\n",
       "      <td>53</td>\n",
       "    </tr>\n",
       "    <tr>\n",
       "      <th>27</th>\n",
       "      <td>27</td>\n",
       "      <td>84</td>\n",
       "      <td>6</td>\n",
       "      <td>53</td>\n",
       "    </tr>\n",
       "    <tr>\n",
       "      <th>28</th>\n",
       "      <td>28</td>\n",
       "      <td>140</td>\n",
       "      <td>18</td>\n",
       "      <td>191</td>\n",
       "    </tr>\n",
       "    <tr>\n",
       "      <th>29</th>\n",
       "      <td>29</td>\n",
       "      <td>33</td>\n",
       "      <td>16</td>\n",
       "      <td>191</td>\n",
       "    </tr>\n",
       "  </tbody>\n",
       "</table>\n",
       "</div>"
      ],
      "text/plain": [
       "    Unnamed: 0  SLM (OLS)  NEAT  SGA\n",
       "25          25        255    19   27\n",
       "26          26         37    13   53\n",
       "27          27         84     6   53\n",
       "28          28        140    18  191\n",
       "29          29         33    16  191"
      ]
     },
     "execution_count": 10,
     "metadata": {},
     "output_type": "execute_result"
    }
   ],
   "source": [
    "#number of connections\n",
    "nr_connections = pd.read_csv(\"number_connections.csv\")\n",
    "#nr_connections.columns.values[0]='run_id'\n",
    "nr_connections.tail()"
   ]
  },
  {
   "cell_type": "code",
   "execution_count": 4,
   "metadata": {},
   "outputs": [
    {
     "data": {
      "text/html": [
       "<div>\n",
       "<style>\n",
       "    .dataframe thead tr:only-child th {\n",
       "        text-align: right;\n",
       "    }\n",
       "\n",
       "    .dataframe thead th {\n",
       "        text-align: left;\n",
       "    }\n",
       "\n",
       "    .dataframe tbody tr th {\n",
       "        vertical-align: top;\n",
       "    }\n",
       "</style>\n",
       "<table border=\"1\" class=\"dataframe\">\n",
       "  <thead>\n",
       "    <tr style=\"text-align: right;\">\n",
       "      <th></th>\n",
       "      <th>Unnamed: 0</th>\n",
       "      <th>SLM (OLS)</th>\n",
       "      <th>NEAT</th>\n",
       "      <th>SGA</th>\n",
       "    </tr>\n",
       "  </thead>\n",
       "  <tbody>\n",
       "    <tr>\n",
       "      <th>0</th>\n",
       "      <td>0</td>\n",
       "      <td>10</td>\n",
       "      <td>8</td>\n",
       "      <td>15</td>\n",
       "    </tr>\n",
       "    <tr>\n",
       "      <th>1</th>\n",
       "      <td>1</td>\n",
       "      <td>4</td>\n",
       "      <td>11</td>\n",
       "      <td>4</td>\n",
       "    </tr>\n",
       "    <tr>\n",
       "      <th>2</th>\n",
       "      <td>2</td>\n",
       "      <td>7</td>\n",
       "      <td>2</td>\n",
       "      <td>1</td>\n",
       "    </tr>\n",
       "    <tr>\n",
       "      <th>3</th>\n",
       "      <td>3</td>\n",
       "      <td>13</td>\n",
       "      <td>3</td>\n",
       "      <td>9</td>\n",
       "    </tr>\n",
       "    <tr>\n",
       "      <th>4</th>\n",
       "      <td>4</td>\n",
       "      <td>44</td>\n",
       "      <td>2</td>\n",
       "      <td>1</td>\n",
       "    </tr>\n",
       "  </tbody>\n",
       "</table>\n",
       "</div>"
      ],
      "text/plain": [
       "   Unnamed: 0  SLM (OLS)  NEAT  SGA\n",
       "0           0         10     8   15\n",
       "1           1          4    11    4\n",
       "2           2          7     2    1\n",
       "3           3         13     3    9\n",
       "4           4         44     2    1"
      ]
     },
     "execution_count": 4,
     "metadata": {},
     "output_type": "execute_result"
    }
   ],
   "source": [
    "#number of neurons\n",
    "nr_neurons = pd.read_csv(\"number_neurons.csv\")\n",
    "#nr_neurons.columns.values[0]='run_id'\n",
    "nr_neurons.head()"
   ]
  },
  {
   "cell_type": "code",
   "execution_count": 5,
   "metadata": {},
   "outputs": [
    {
     "data": {
      "text/html": [
       "<div>\n",
       "<style>\n",
       "    .dataframe thead tr:only-child th {\n",
       "        text-align: right;\n",
       "    }\n",
       "\n",
       "    .dataframe thead th {\n",
       "        text-align: left;\n",
       "    }\n",
       "\n",
       "    .dataframe tbody tr th {\n",
       "        vertical-align: top;\n",
       "    }\n",
       "</style>\n",
       "<table border=\"1\" class=\"dataframe\">\n",
       "  <thead>\n",
       "    <tr style=\"text-align: right;\">\n",
       "      <th></th>\n",
       "      <th>Unnamed: 0</th>\n",
       "      <th>SLM (OLS)</th>\n",
       "      <th>NEAT</th>\n",
       "      <th>SGA</th>\n",
       "    </tr>\n",
       "  </thead>\n",
       "  <tbody>\n",
       "    <tr>\n",
       "      <th>0</th>\n",
       "      <td>0</td>\n",
       "      <td>0.213445</td>\n",
       "      <td>204.478968</td>\n",
       "      <td>149.503571</td>\n",
       "    </tr>\n",
       "    <tr>\n",
       "      <th>1</th>\n",
       "      <td>1</td>\n",
       "      <td>0.121621</td>\n",
       "      <td>138.297328</td>\n",
       "      <td>41.389311</td>\n",
       "    </tr>\n",
       "    <tr>\n",
       "      <th>2</th>\n",
       "      <td>2</td>\n",
       "      <td>0.296121</td>\n",
       "      <td>115.653670</td>\n",
       "      <td>19.465597</td>\n",
       "    </tr>\n",
       "    <tr>\n",
       "      <th>3</th>\n",
       "      <td>3</td>\n",
       "      <td>0.570472</td>\n",
       "      <td>146.523024</td>\n",
       "      <td>71.093948</td>\n",
       "    </tr>\n",
       "    <tr>\n",
       "      <th>4</th>\n",
       "      <td>4</td>\n",
       "      <td>1.018838</td>\n",
       "      <td>104.226183</td>\n",
       "      <td>20.688469</td>\n",
       "    </tr>\n",
       "  </tbody>\n",
       "</table>\n",
       "</div>"
      ],
      "text/plain": [
       "   Unnamed: 0  SLM (OLS)        NEAT         SGA\n",
       "0           0   0.213445  204.478968  149.503571\n",
       "1           1   0.121621  138.297328   41.389311\n",
       "2           2   0.296121  115.653670   19.465597\n",
       "3           3   0.570472  146.523024   71.093948\n",
       "4           4   1.018838  104.226183   20.688469"
      ]
     },
     "execution_count": 5,
     "metadata": {},
     "output_type": "execute_result"
    }
   ],
   "source": [
    "#processing time\n",
    "proc_time = pd.read_csv(\"processing_time.csv\")\n",
    "proc_time.head()"
   ]
  },
  {
   "cell_type": "code",
   "execution_count": 6,
   "metadata": {},
   "outputs": [
    {
     "data": {
      "text/html": [
       "<div>\n",
       "<style>\n",
       "    .dataframe thead tr:only-child th {\n",
       "        text-align: right;\n",
       "    }\n",
       "\n",
       "    .dataframe thead th {\n",
       "        text-align: left;\n",
       "    }\n",
       "\n",
       "    .dataframe tbody tr th {\n",
       "        vertical-align: top;\n",
       "    }\n",
       "</style>\n",
       "<table border=\"1\" class=\"dataframe\">\n",
       "  <thead>\n",
       "    <tr style=\"text-align: right;\">\n",
       "      <th></th>\n",
       "      <th>Unnamed: 0</th>\n",
       "      <th>SLM (OLS)</th>\n",
       "      <th>NEAT</th>\n",
       "      <th>SGA</th>\n",
       "    </tr>\n",
       "  </thead>\n",
       "  <tbody>\n",
       "    <tr>\n",
       "      <th>0</th>\n",
       "      <td>0</td>\n",
       "      <td>0.036878</td>\n",
       "      <td>0.591035</td>\n",
       "      <td>0.146884</td>\n",
       "    </tr>\n",
       "    <tr>\n",
       "      <th>1</th>\n",
       "      <td>1</td>\n",
       "      <td>0.044054</td>\n",
       "      <td>0.558355</td>\n",
       "      <td>0.288298</td>\n",
       "    </tr>\n",
       "    <tr>\n",
       "      <th>2</th>\n",
       "      <td>2</td>\n",
       "      <td>0.040012</td>\n",
       "      <td>0.590640</td>\n",
       "      <td>0.280470</td>\n",
       "    </tr>\n",
       "    <tr>\n",
       "      <th>3</th>\n",
       "      <td>3</td>\n",
       "      <td>0.042361</td>\n",
       "      <td>0.593183</td>\n",
       "      <td>0.282933</td>\n",
       "    </tr>\n",
       "    <tr>\n",
       "      <th>4</th>\n",
       "      <td>4</td>\n",
       "      <td>0.043163</td>\n",
       "      <td>0.587389</td>\n",
       "      <td>0.286767</td>\n",
       "    </tr>\n",
       "  </tbody>\n",
       "</table>\n",
       "</div>"
      ],
      "text/plain": [
       "   Unnamed: 0  SLM (OLS)      NEAT       SGA\n",
       "0           0   0.036878  0.591035  0.146884\n",
       "1           1   0.044054  0.558355  0.288298\n",
       "2           2   0.040012  0.590640  0.280470\n",
       "3           3   0.042361  0.593183  0.282933\n",
       "4           4   0.043163  0.587389  0.286767"
      ]
     },
     "execution_count": 6,
     "metadata": {},
     "output_type": "execute_result"
    }
   ],
   "source": [
    "#processing time evolution mean \n",
    "proc_time_evo_mean = pd.read_csv(\"processing_time_evolution_mean.csv\")\n",
    "proc_time_evo_mean.head()"
   ]
  },
  {
   "cell_type": "code",
   "execution_count": 7,
   "metadata": {},
   "outputs": [
    {
     "data": {
      "text/html": [
       "<div>\n",
       "<style>\n",
       "    .dataframe thead tr:only-child th {\n",
       "        text-align: right;\n",
       "    }\n",
       "\n",
       "    .dataframe thead th {\n",
       "        text-align: left;\n",
       "    }\n",
       "\n",
       "    .dataframe tbody tr th {\n",
       "        vertical-align: top;\n",
       "    }\n",
       "</style>\n",
       "<table border=\"1\" class=\"dataframe\">\n",
       "  <thead>\n",
       "    <tr style=\"text-align: right;\">\n",
       "      <th></th>\n",
       "      <th>Unnamed: 0</th>\n",
       "      <th>SLM (OLS)</th>\n",
       "      <th>NEAT</th>\n",
       "      <th>SGA</th>\n",
       "    </tr>\n",
       "  </thead>\n",
       "  <tbody>\n",
       "    <tr>\n",
       "      <th>0</th>\n",
       "      <td>0</td>\n",
       "      <td>0.001364</td>\n",
       "      <td>0.012942</td>\n",
       "      <td>0.018735</td>\n",
       "    </tr>\n",
       "    <tr>\n",
       "      <th>1</th>\n",
       "      <td>1</td>\n",
       "      <td>0.001434</td>\n",
       "      <td>0.008963</td>\n",
       "      <td>0.037279</td>\n",
       "    </tr>\n",
       "    <tr>\n",
       "      <th>2</th>\n",
       "      <td>2</td>\n",
       "      <td>0.001255</td>\n",
       "      <td>0.007661</td>\n",
       "      <td>0.035687</td>\n",
       "    </tr>\n",
       "    <tr>\n",
       "      <th>3</th>\n",
       "      <td>3</td>\n",
       "      <td>0.001648</td>\n",
       "      <td>0.007783</td>\n",
       "      <td>0.036237</td>\n",
       "    </tr>\n",
       "    <tr>\n",
       "      <th>4</th>\n",
       "      <td>4</td>\n",
       "      <td>0.001830</td>\n",
       "      <td>0.008147</td>\n",
       "      <td>0.035082</td>\n",
       "    </tr>\n",
       "  </tbody>\n",
       "</table>\n",
       "</div>"
      ],
      "text/plain": [
       "   Unnamed: 0  SLM (OLS)      NEAT       SGA\n",
       "0           0   0.001364  0.012942  0.018735\n",
       "1           1   0.001434  0.008963  0.037279\n",
       "2           2   0.001255  0.007661  0.035687\n",
       "3           3   0.001648  0.007783  0.036237\n",
       "4           4   0.001830  0.008147  0.035082"
      ]
     },
     "execution_count": 7,
     "metadata": {},
     "output_type": "execute_result"
    }
   ],
   "source": [
    "#processing time evolution se \n",
    "proc_time_evo_se = pd.read_csv(\"processing_time_evolution_se.csv\")\n",
    "proc_time_evo_se.head()"
   ]
  },
  {
   "cell_type": "markdown",
   "metadata": {},
   "source": [
    "## testing value"
   ]
  },
  {
   "cell_type": "code",
   "execution_count": 19,
   "metadata": {},
   "outputs": [
    {
     "data": {
      "text/html": [
       "<div>\n",
       "<style scoped>\n",
       "    .dataframe tbody tr th:only-of-type {\n",
       "        vertical-align: middle;\n",
       "    }\n",
       "\n",
       "    .dataframe tbody tr th {\n",
       "        vertical-align: top;\n",
       "    }\n",
       "\n",
       "    .dataframe thead th {\n",
       "        text-align: right;\n",
       "    }\n",
       "</style>\n",
       "<table border=\"1\" class=\"dataframe\">\n",
       "  <thead>\n",
       "    <tr style=\"text-align: right;\">\n",
       "      <th></th>\n",
       "      <th>Unnamed: 0</th>\n",
       "      <th>SLM (OLS)</th>\n",
       "      <th>NEAT</th>\n",
       "      <th>SGA</th>\n",
       "      <th>SVM</th>\n",
       "      <th>MLP</th>\n",
       "      <th>SLM (Ensemble)</th>\n",
       "      <th>RF</th>\n",
       "    </tr>\n",
       "  </thead>\n",
       "  <tbody>\n",
       "    <tr>\n",
       "      <th>0</th>\n",
       "      <td>0</td>\n",
       "      <td>0.426222</td>\n",
       "      <td>0.420559</td>\n",
       "      <td>0.426847</td>\n",
       "      <td>0.452769</td>\n",
       "      <td>0.474342</td>\n",
       "      <td>0.400981</td>\n",
       "      <td>0.441588</td>\n",
       "    </tr>\n",
       "    <tr>\n",
       "      <th>1</th>\n",
       "      <td>1</td>\n",
       "      <td>0.417956</td>\n",
       "      <td>0.416715</td>\n",
       "      <td>0.436736</td>\n",
       "      <td>0.489898</td>\n",
       "      <td>0.524404</td>\n",
       "      <td>0.411566</td>\n",
       "      <td>0.504975</td>\n",
       "    </tr>\n",
       "    <tr>\n",
       "      <th>2</th>\n",
       "      <td>2</td>\n",
       "      <td>0.393420</td>\n",
       "      <td>0.480778</td>\n",
       "      <td>0.413007</td>\n",
       "      <td>0.595819</td>\n",
       "      <td>0.469042</td>\n",
       "      <td>0.384262</td>\n",
       "      <td>0.458258</td>\n",
       "    </tr>\n",
       "    <tr>\n",
       "      <th>3</th>\n",
       "      <td>3</td>\n",
       "      <td>0.434497</td>\n",
       "      <td>0.438934</td>\n",
       "      <td>0.426408</td>\n",
       "      <td>0.524404</td>\n",
       "      <td>0.552268</td>\n",
       "      <td>0.435987</td>\n",
       "      <td>0.547723</td>\n",
       "    </tr>\n",
       "    <tr>\n",
       "      <th>4</th>\n",
       "      <td>4</td>\n",
       "      <td>0.415728</td>\n",
       "      <td>0.502212</td>\n",
       "      <td>0.393358</td>\n",
       "      <td>0.514782</td>\n",
       "      <td>0.514782</td>\n",
       "      <td>0.406335</td>\n",
       "      <td>0.479583</td>\n",
       "    </tr>\n",
       "  </tbody>\n",
       "</table>\n",
       "</div>"
      ],
      "text/plain": [
       "   Unnamed: 0  SLM (OLS)      NEAT       SGA       SVM       MLP  \\\n",
       "0           0   0.426222  0.420559  0.426847  0.452769  0.474342   \n",
       "1           1   0.417956  0.416715  0.436736  0.489898  0.524404   \n",
       "2           2   0.393420  0.480778  0.413007  0.595819  0.469042   \n",
       "3           3   0.434497  0.438934  0.426408  0.524404  0.552268   \n",
       "4           4   0.415728  0.502212  0.393358  0.514782  0.514782   \n",
       "\n",
       "   SLM (Ensemble)        RF  \n",
       "0        0.400981  0.441588  \n",
       "1        0.411566  0.504975  \n",
       "2        0.384262  0.458258  \n",
       "3        0.435987  0.547723  \n",
       "4        0.406335  0.479583  "
      ]
     },
     "execution_count": 19,
     "metadata": {},
     "output_type": "execute_result"
    }
   ],
   "source": [
    "#testing value \n",
    "testing_value = pd.read_csv(\"testing_value.csv\")\n",
    "testing_value.head()"
   ]
  },
  {
   "cell_type": "code",
   "execution_count": 22,
   "metadata": {},
   "outputs": [
    {
     "data": {
      "image/png": "[encoded data removed]",
      "text/plain": [
       "<matplotlib.figure.Figure at 0x27122e50e48>"
      ]
     },
     "metadata": {},
     "output_type": "display_data"
    }
   ],
   "source": [
    "subset_testing_value = testing_value[['SLM (OLS)', 'NEAT', 'SGA', 'SVM', 'MLP']]\n",
    "sns.boxplot(data=subset_testing_value, palette=\"Set3\").set(\n",
    "    xlabel='Algorithms', \n",
    "    ylabel='RMSE')\n",
    "plt.show()"
   ]
  },
  {
   "cell_type": "code",
   "execution_count": 23,
   "metadata": {},
   "outputs": [
    {
     "data": {
      "image/png": "[encoded data removed]",
      "text/plain": [
       "<matplotlib.figure.Figure at 0x27122d9a710>"
      ]
     },
     "metadata": {},
     "output_type": "display_data"
    }
   ],
   "source": [
    "subset_testing_value = testing_value[['RF', 'SLM (Ensemble)']]\n",
    "sns.boxplot(data=subset_testing_value, palette=\"Set3\").set(\n",
    "    xlabel='Algorithms', \n",
    "    ylabel='RMSE')\n",
    "plt.show()"
   ]
  },
  {
   "cell_type": "markdown",
   "metadata": {},
   "source": [
    "## testing value evolution mean"
   ]
  },
  {
   "cell_type": "code",
   "execution_count": 8,
   "metadata": {},
   "outputs": [
    {
     "data": {
      "text/html": [
       "<div>\n",
       "<style scoped>\n",
       "    .dataframe tbody tr th:only-of-type {\n",
       "        vertical-align: middle;\n",
       "    }\n",
       "\n",
       "    .dataframe tbody tr th {\n",
       "        vertical-align: top;\n",
       "    }\n",
       "\n",
       "    .dataframe thead th {\n",
       "        text-align: right;\n",
       "    }\n",
       "</style>\n",
       "<table border=\"1\" class=\"dataframe\">\n",
       "  <thead>\n",
       "    <tr style=\"text-align: right;\">\n",
       "      <th></th>\n",
       "      <th>Unnamed: 0</th>\n",
       "      <th>SLM (OLS)</th>\n",
       "      <th>NEAT</th>\n",
       "      <th>SGA</th>\n",
       "    </tr>\n",
       "  </thead>\n",
       "  <tbody>\n",
       "    <tr>\n",
       "      <th>0</th>\n",
       "      <td>0</td>\n",
       "      <td>0.451948</td>\n",
       "      <td>0.499995</td>\n",
       "      <td>0.484684</td>\n",
       "    </tr>\n",
       "    <tr>\n",
       "      <th>1</th>\n",
       "      <td>1</td>\n",
       "      <td>0.440801</td>\n",
       "      <td>0.488837</td>\n",
       "      <td>0.474527</td>\n",
       "    </tr>\n",
       "    <tr>\n",
       "      <th>2</th>\n",
       "      <td>2</td>\n",
       "      <td>0.431403</td>\n",
       "      <td>0.478636</td>\n",
       "      <td>0.465660</td>\n",
       "    </tr>\n",
       "    <tr>\n",
       "      <th>3</th>\n",
       "      <td>3</td>\n",
       "      <td>0.428093</td>\n",
       "      <td>0.474567</td>\n",
       "      <td>0.461982</td>\n",
       "    </tr>\n",
       "    <tr>\n",
       "      <th>4</th>\n",
       "      <td>4</td>\n",
       "      <td>0.425497</td>\n",
       "      <td>0.469863</td>\n",
       "      <td>0.458073</td>\n",
       "    </tr>\n",
       "  </tbody>\n",
       "</table>\n",
       "</div>"
      ],
      "text/plain": [
       "   Unnamed: 0  SLM (OLS)      NEAT       SGA\n",
       "0           0   0.451948  0.499995  0.484684\n",
       "1           1   0.440801  0.488837  0.474527\n",
       "2           2   0.431403  0.478636  0.465660\n",
       "3           3   0.428093  0.474567  0.461982\n",
       "4           4   0.425497  0.469863  0.458073"
      ]
     },
     "execution_count": 8,
     "metadata": {},
     "output_type": "execute_result"
    }
   ],
   "source": [
    "#testing value evolution mean\n",
    "testing_value_evo_mean = pd.read_csv(\"testing_value_evolution_mean.csv\")\n",
    "testing_value_evo_mean.head()"
   ]
  },
  {
   "cell_type": "code",
   "execution_count": 24,
   "metadata": {},
   "outputs": [
    {
     "data": {
      "image/png": "[encoded data removed]",
      "text/plain": [
       "<matplotlib.figure.Figure at 0x2712300dac8>"
      ]
     },
     "metadata": {},
     "output_type": "display_data"
    }
   ],
   "source": [
    "subset_testing_value_evo_mean = testing_value_evo_mean[['SLM (OLS)', 'NEAT', 'SGA']]\n",
    "sns.lineplot(data=subset_testing_value_evo_mean, palette=\"Set3\", linewidth=2.5).set(\n",
    "    xlabel='Generations', \n",
    "    ylabel='RMSE')\n",
    "plt.show()"
   ]
  },
  {
   "cell_type": "code",
   "execution_count": 3,
   "metadata": {},
   "outputs": [
    {
     "data": {
      "text/html": [
       "<div>\n",
       "<style scoped>\n",
       "    .dataframe tbody tr th:only-of-type {\n",
       "        vertical-align: middle;\n",
       "    }\n",
       "\n",
       "    .dataframe tbody tr th {\n",
       "        vertical-align: top;\n",
       "    }\n",
       "\n",
       "    .dataframe thead th {\n",
       "        text-align: right;\n",
       "    }\n",
       "</style>\n",
       "<table border=\"1\" class=\"dataframe\">\n",
       "  <thead>\n",
       "    <tr style=\"text-align: right;\">\n",
       "      <th></th>\n",
       "      <th>Unnamed: 0</th>\n",
       "      <th>SLM (OLS)</th>\n",
       "      <th>NEAT</th>\n",
       "      <th>SGA</th>\n",
       "    </tr>\n",
       "  </thead>\n",
       "  <tbody>\n",
       "    <tr>\n",
       "      <th>0</th>\n",
       "      <td>0</td>\n",
       "      <td>0.003168</td>\n",
       "      <td>0.005909</td>\n",
       "      <td>0.005576</td>\n",
       "    </tr>\n",
       "    <tr>\n",
       "      <th>1</th>\n",
       "      <td>1</td>\n",
       "      <td>0.003368</td>\n",
       "      <td>0.004936</td>\n",
       "      <td>0.004170</td>\n",
       "    </tr>\n",
       "    <tr>\n",
       "      <th>2</th>\n",
       "      <td>2</td>\n",
       "      <td>0.002934</td>\n",
       "      <td>0.004288</td>\n",
       "      <td>0.003702</td>\n",
       "    </tr>\n",
       "    <tr>\n",
       "      <th>3</th>\n",
       "      <td>3</td>\n",
       "      <td>0.003155</td>\n",
       "      <td>0.003699</td>\n",
       "      <td>0.003563</td>\n",
       "    </tr>\n",
       "    <tr>\n",
       "      <th>4</th>\n",
       "      <td>4</td>\n",
       "      <td>0.002870</td>\n",
       "      <td>0.003528</td>\n",
       "      <td>0.003353</td>\n",
       "    </tr>\n",
       "  </tbody>\n",
       "</table>\n",
       "</div>"
      ],
      "text/plain": [
       "   Unnamed: 0  SLM (OLS)      NEAT       SGA\n",
       "0           0   0.003168  0.005909  0.005576\n",
       "1           1   0.003368  0.004936  0.004170\n",
       "2           2   0.002934  0.004288  0.003702\n",
       "3           3   0.003155  0.003699  0.003563\n",
       "4           4   0.002870  0.003528  0.003353"
      ]
     },
     "execution_count": 3,
     "metadata": {},
     "output_type": "execute_result"
    }
   ],
   "source": [
    "#testing value evolution se\n",
    "testing_value_evo_se = pd.read_csv(\"testing_value_evolution_se.csv\")\n",
    "testing_value_evo_se.head()"
   ]
  },
  {
   "cell_type": "markdown",
   "metadata": {},
   "source": [
    "## training value"
   ]
  },
  {
   "cell_type": "code",
   "execution_count": 12,
   "metadata": {},
   "outputs": [
    {
     "data": {
      "text/html": [
       "<div>\n",
       "<style scoped>\n",
       "    .dataframe tbody tr th:only-of-type {\n",
       "        vertical-align: middle;\n",
       "    }\n",
       "\n",
       "    .dataframe tbody tr th {\n",
       "        vertical-align: top;\n",
       "    }\n",
       "\n",
       "    .dataframe thead th {\n",
       "        text-align: right;\n",
       "    }\n",
       "</style>\n",
       "<table border=\"1\" class=\"dataframe\">\n",
       "  <thead>\n",
       "    <tr style=\"text-align: right;\">\n",
       "      <th></th>\n",
       "      <th>Unnamed: 0</th>\n",
       "      <th>SLM (OLS)</th>\n",
       "      <th>NEAT</th>\n",
       "      <th>SGA</th>\n",
       "      <th>SVM</th>\n",
       "      <th>MLP</th>\n",
       "      <th>SLM (Ensemble)</th>\n",
       "      <th>RF</th>\n",
       "    </tr>\n",
       "  </thead>\n",
       "  <tbody>\n",
       "    <tr>\n",
       "      <th>0</th>\n",
       "      <td>0</td>\n",
       "      <td>0.410305</td>\n",
       "      <td>0.404979</td>\n",
       "      <td>0.379945</td>\n",
       "      <td>0.435890</td>\n",
       "      <td>0.379473</td>\n",
       "      <td>0.352579</td>\n",
       "      <td>0.275681</td>\n",
       "    </tr>\n",
       "    <tr>\n",
       "      <th>1</th>\n",
       "      <td>1</td>\n",
       "      <td>0.420187</td>\n",
       "      <td>0.414355</td>\n",
       "      <td>0.394336</td>\n",
       "      <td>0.451664</td>\n",
       "      <td>0.293258</td>\n",
       "      <td>0.411629</td>\n",
       "      <td>0.421900</td>\n",
       "    </tr>\n",
       "    <tr>\n",
       "      <th>2</th>\n",
       "      <td>2</td>\n",
       "      <td>0.399303</td>\n",
       "      <td>0.542629</td>\n",
       "      <td>0.391707</td>\n",
       "      <td>0.044721</td>\n",
       "      <td>0.481664</td>\n",
       "      <td>0.366072</td>\n",
       "      <td>0.141421</td>\n",
       "    </tr>\n",
       "    <tr>\n",
       "      <th>3</th>\n",
       "      <td>3</td>\n",
       "      <td>0.402911</td>\n",
       "      <td>0.413579</td>\n",
       "      <td>0.404086</td>\n",
       "      <td>0.419524</td>\n",
       "      <td>0.560357</td>\n",
       "      <td>0.411309</td>\n",
       "      <td>0.412311</td>\n",
       "    </tr>\n",
       "    <tr>\n",
       "      <th>4</th>\n",
       "      <td>4</td>\n",
       "      <td>0.397713</td>\n",
       "      <td>0.511446</td>\n",
       "      <td>0.405448</td>\n",
       "      <td>0.368782</td>\n",
       "      <td>0.497996</td>\n",
       "      <td>0.373165</td>\n",
       "      <td>0.134164</td>\n",
       "    </tr>\n",
       "  </tbody>\n",
       "</table>\n",
       "</div>"
      ],
      "text/plain": [
       "   Unnamed: 0  SLM (OLS)      NEAT       SGA       SVM       MLP  \\\n",
       "0           0   0.410305  0.404979  0.379945  0.435890  0.379473   \n",
       "1           1   0.420187  0.414355  0.394336  0.451664  0.293258   \n",
       "2           2   0.399303  0.542629  0.391707  0.044721  0.481664   \n",
       "3           3   0.402911  0.413579  0.404086  0.419524  0.560357   \n",
       "4           4   0.397713  0.511446  0.405448  0.368782  0.497996   \n",
       "\n",
       "   SLM (Ensemble)        RF  \n",
       "0        0.352579  0.275681  \n",
       "1        0.411629  0.421900  \n",
       "2        0.366072  0.141421  \n",
       "3        0.411309  0.412311  \n",
       "4        0.373165  0.134164  "
      ]
     },
     "execution_count": 12,
     "metadata": {},
     "output_type": "execute_result"
    }
   ],
   "source": [
    "#training value \n",
    "training_value = pd.read_csv(\"training_value.csv\")\n",
    "training_value.head()"
   ]
  },
  {
   "cell_type": "code",
   "execution_count": 25,
   "metadata": {},
   "outputs": [
    {
     "data": {
      "image/png": "[encoded data removed]",
      "text/plain": [
       "<matplotlib.figure.Figure at 0x271230d1358>"
      ]
     },
     "metadata": {},
     "output_type": "display_data"
    }
   ],
   "source": [
    "subset_training_value = training_value[['SLM (OLS)', 'NEAT', 'SGA', 'SVM', 'MLP']]\n",
    "sns.boxplot(data=subset_training_value, palette=\"Set3\").set(\n",
    "    xlabel='Algorithms', \n",
    "    ylabel='RMSE')\n",
    "plt.show()"
   ]
  },
  {
   "cell_type": "code",
   "execution_count": 26,
   "metadata": {},
   "outputs": [
    {
     "data": {
      "image/png": "[encoded data removed]",
      "text/plain": [
       "<matplotlib.figure.Figure at 0x27123196160>"
      ]
     },
     "metadata": {},
     "output_type": "display_data"
    }
   ],
   "source": [
    "subset_training_value = training_value[['RF', 'SLM (Ensemble)']]\n",
    "sns.boxplot(data=subset_training_value, palette=\"Set3\").set(\n",
    "    xlabel='Algorithms', \n",
    "    ylabel='RMSE')\n",
    "plt.show()"
   ]
  },
  {
   "cell_type": "markdown",
   "metadata": {},
   "source": [
    "## training value evolution mean "
   ]
  },
  {
   "cell_type": "code",
   "execution_count": 16,
   "metadata": {},
   "outputs": [
    {
     "data": {
      "text/html": [
       "<div>\n",
       "<style scoped>\n",
       "    .dataframe tbody tr th:only-of-type {\n",
       "        vertical-align: middle;\n",
       "    }\n",
       "\n",
       "    .dataframe tbody tr th {\n",
       "        vertical-align: top;\n",
       "    }\n",
       "\n",
       "    .dataframe thead th {\n",
       "        text-align: right;\n",
       "    }\n",
       "</style>\n",
       "<table border=\"1\" class=\"dataframe\">\n",
       "  <thead>\n",
       "    <tr style=\"text-align: right;\">\n",
       "      <th></th>\n",
       "      <th>Unnamed: 0</th>\n",
       "      <th>SLM (OLS)</th>\n",
       "      <th>NEAT</th>\n",
       "      <th>SGA</th>\n",
       "    </tr>\n",
       "  </thead>\n",
       "  <tbody>\n",
       "    <tr>\n",
       "      <th>0</th>\n",
       "      <td>0</td>\n",
       "      <td>0.447259</td>\n",
       "      <td>0.498351</td>\n",
       "      <td>0.480802</td>\n",
       "    </tr>\n",
       "    <tr>\n",
       "      <th>1</th>\n",
       "      <td>1</td>\n",
       "      <td>0.431326</td>\n",
       "      <td>0.483243</td>\n",
       "      <td>0.472041</td>\n",
       "    </tr>\n",
       "    <tr>\n",
       "      <th>2</th>\n",
       "      <td>2</td>\n",
       "      <td>0.421598</td>\n",
       "      <td>0.474212</td>\n",
       "      <td>0.462723</td>\n",
       "    </tr>\n",
       "    <tr>\n",
       "      <th>3</th>\n",
       "      <td>3</td>\n",
       "      <td>0.415699</td>\n",
       "      <td>0.468833</td>\n",
       "      <td>0.459087</td>\n",
       "    </tr>\n",
       "    <tr>\n",
       "      <th>4</th>\n",
       "      <td>4</td>\n",
       "      <td>0.410153</td>\n",
       "      <td>0.464570</td>\n",
       "      <td>0.456247</td>\n",
       "    </tr>\n",
       "  </tbody>\n",
       "</table>\n",
       "</div>"
      ],
      "text/plain": [
       "   Unnamed: 0  SLM (OLS)      NEAT       SGA\n",
       "0           0   0.447259  0.498351  0.480802\n",
       "1           1   0.431326  0.483243  0.472041\n",
       "2           2   0.421598  0.474212  0.462723\n",
       "3           3   0.415699  0.468833  0.459087\n",
       "4           4   0.410153  0.464570  0.456247"
      ]
     },
     "execution_count": 16,
     "metadata": {},
     "output_type": "execute_result"
    }
   ],
   "source": [
    "#training value evolution mean\n",
    "training_value_evo_mean = pd.read_csv(\"training_value_evolution_mean.csv\")\n",
    "training_value_evo_mean.head()"
   ]
  },
  {
   "cell_type": "code",
   "execution_count": 32,
   "metadata": {},
   "outputs": [
    {
     "data": {
      "image/png": "[encoded data removed]",
      "text/plain": [
       "<matplotlib.figure.Figure at 0x271229dae48>"
      ]
     },
     "metadata": {},
     "output_type": "display_data"
    }
   ],
   "source": [
    "subset_training_value_evo_mean = training_value_evo_mean[['SLM (OLS)', 'NEAT', 'SGA']]\n",
    "sns.lineplot(data=subset_training_value_evo_mean, palette=\"Set3\", linewidth=2.5).set(\n",
    "    xlabel='Generations', \n",
    "    ylabel='RMSE')\n",
    "plt.show()"
   ]
  },
  {
   "cell_type": "code",
   "execution_count": 13,
   "metadata": {},
   "outputs": [
    {
     "data": {
      "text/html": [
       "<div>\n",
       "<style>\n",
       "    .dataframe thead tr:only-child th {\n",
       "        text-align: right;\n",
       "    }\n",
       "\n",
       "    .dataframe thead th {\n",
       "        text-align: left;\n",
       "    }\n",
       "\n",
       "    .dataframe tbody tr th {\n",
       "        vertical-align: top;\n",
       "    }\n",
       "</style>\n",
       "<table border=\"1\" class=\"dataframe\">\n",
       "  <thead>\n",
       "    <tr style=\"text-align: right;\">\n",
       "      <th></th>\n",
       "      <th>Unnamed: 0</th>\n",
       "      <th>SLM (OLS)</th>\n",
       "      <th>NEAT</th>\n",
       "      <th>SGA</th>\n",
       "    </tr>\n",
       "  </thead>\n",
       "  <tbody>\n",
       "    <tr>\n",
       "      <th>0</th>\n",
       "      <td>0</td>\n",
       "      <td>0.002822</td>\n",
       "      <td>0.005376</td>\n",
       "      <td>0.004622</td>\n",
       "    </tr>\n",
       "    <tr>\n",
       "      <th>1</th>\n",
       "      <td>1</td>\n",
       "      <td>0.002360</td>\n",
       "      <td>0.004534</td>\n",
       "      <td>0.003746</td>\n",
       "    </tr>\n",
       "    <tr>\n",
       "      <th>2</th>\n",
       "      <td>2</td>\n",
       "      <td>0.002158</td>\n",
       "      <td>0.004072</td>\n",
       "      <td>0.003538</td>\n",
       "    </tr>\n",
       "    <tr>\n",
       "      <th>3</th>\n",
       "      <td>3</td>\n",
       "      <td>0.002082</td>\n",
       "      <td>0.003931</td>\n",
       "      <td>0.003203</td>\n",
       "    </tr>\n",
       "    <tr>\n",
       "      <th>4</th>\n",
       "      <td>4</td>\n",
       "      <td>0.002035</td>\n",
       "      <td>0.004030</td>\n",
       "      <td>0.003160</td>\n",
       "    </tr>\n",
       "  </tbody>\n",
       "</table>\n",
       "</div>"
      ],
      "text/plain": [
       "   Unnamed: 0  SLM (OLS)      NEAT       SGA\n",
       "0           0   0.002822  0.005376  0.004622\n",
       "1           1   0.002360  0.004534  0.003746\n",
       "2           2   0.002158  0.004072  0.003538\n",
       "3           3   0.002082  0.003931  0.003203\n",
       "4           4   0.002035  0.004030  0.003160"
      ]
     },
     "execution_count": 13,
     "metadata": {},
     "output_type": "execute_result"
    }
   ],
   "source": [
    "#training value evolution se\n",
    "training_value_evo_se = pd.read_csv(\"training_value_evolution_se.csv\")\n",
    "training_value_evo_se.head()"
   ]
  },
  {
   "cell_type": "code",
   "execution_count": null,
   "metadata": {
    "collapsed": true
   },
   "outputs": [],
   "source": []
  }
 ],
 "metadata": {
  "kernelspec": {
   "display_name": "Python 3",
   "language": "python",
   "name": "python3"
  },
  "language_info": {
   "codemirror_mode": {
    "name": "ipython",
    "version": 3
   },
   "file_extension": ".py",
   "mimetype": "text/x-python",
   "name": "python",
   "nbconvert_exporter": "python",
   "pygments_lexer": "ipython3",
   "version": "3.6.3"
  }
 },
 "nbformat": 4,
 "nbformat_minor": 2
}
